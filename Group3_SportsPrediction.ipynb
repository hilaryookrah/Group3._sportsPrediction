{
  "cells": [
    {
      "cell_type": "code",
      "execution_count": 131,
      "metadata": {
        "id": "EJpamVo9YyD1",
        "colab": {
          "base_uri": "https://localhost:8080/"
        },
        "outputId": "bcd3cea3-93cf-41e9-e3c3-f76e3a3a55d0"
      },
      "outputs": [
        {
          "output_type": "stream",
          "name": "stdout",
          "text": [
            "Drive already mounted at /content/drive; to attempt to forcibly remount, call drive.mount(\"/content/drive\", force_remount=True).\n"
          ]
        }
      ],
      "source": [
        "#import libraries\n",
        "import os\n",
        "import sklearn\n",
        "import numpy as np\n",
        "import pandas as pd\n",
        "import matplotlib.pyplot as plt\n",
        "from sklearn import tree, metrics\n",
        "from sklearn.impute import SimpleImputer\n",
        "from sklearn.model_selection import train_test_split\n",
        "from google.colab import drive\n",
        "drive.mount('/content/drive')"
      ]
    },
    {
      "cell_type": "code",
      "execution_count": 132,
      "metadata": {
        "id": "rT82LFbFY33a"
      },
      "outputs": [],
      "source": [
        "sports_data_21=pd.read_csv('/content/drive/MyDrive/MIDSEM PROJECT/players_21.csv')#train"
      ]
    },
    {
      "cell_type": "code",
      "execution_count": 133,
      "metadata": {
        "colab": {
          "base_uri": "https://localhost:8080/"
        },
        "id": "FmapQrCU4XL5",
        "outputId": "72ea9f13-b654-4512-858e-fcf5e2a1802c"
      },
      "outputs": [
        {
          "output_type": "stream",
          "name": "stdout",
          "text": [
            "<class 'pandas.core.frame.DataFrame'>\n",
            "RangeIndex: 18944 entries, 0 to 18943\n",
            "Columns: 110 entries, sofifa_id to nation_flag_url\n",
            "dtypes: float64(16), int64(44), object(50)\n",
            "memory usage: 15.9+ MB\n"
          ]
        }
      ],
      "source": [
        "sports_data_21.info()"
      ]
    },
    {
      "cell_type": "markdown",
      "metadata": {
        "id": "VlSHKhKd5tKV"
      },
      "source": [
        "Drop features with 30% NaN"
      ]
    },
    {
      "cell_type": "code",
      "execution_count": 134,
      "metadata": {
        "id": "Y2NI6E7-8U6c"
      },
      "outputs": [],
      "source": [
        "threshold = 0.30 * len(sports_data_21)\n",
        "\n",
        "# Identify columns with 30% or more NaN values\n",
        "columns_with_nan = sports_data_21.columns[sports_data_21.isna().sum() >= threshold]\n",
        "\n",
        "# Drop the identified columns\n",
        "sports_data_21.drop(columns=columns_with_nan, inplace=True)"
      ]
    },
    {
      "cell_type": "markdown",
      "metadata": {
        "id": "PBZFtiJ49ob6"
      },
      "source": [
        "Getting numerical and object columns"
      ]
    },
    {
      "cell_type": "code",
      "execution_count": 135,
      "metadata": {
        "id": "nTvdGvGO9KOP"
      },
      "outputs": [],
      "source": [
        "numerical_columns = sports_data_21.select_dtypes(include=['int64', 'float64'])"
      ]
    },
    {
      "cell_type": "code",
      "execution_count": 136,
      "metadata": {
        "id": "hz2R_VkD3Kdu"
      },
      "outputs": [],
      "source": [
        "object_columns = sports_data_21.select_dtypes(include=['object']).columns"
      ]
    },
    {
      "cell_type": "code",
      "execution_count": 137,
      "metadata": {
        "colab": {
          "base_uri": "https://localhost:8080/"
        },
        "id": "4ZksuJl43dzm",
        "outputId": "6958ced9-f108-4088-9ecd-b890531e6f4f"
      },
      "outputs": [
        {
          "output_type": "execute_result",
          "data": {
            "text/plain": [
              "Index(['player_url', 'short_name', 'long_name', 'player_positions', 'dob',\n",
              "       'club_name', 'league_name', 'club_position', 'club_joined',\n",
              "       'nationality_name', 'preferred_foot', 'work_rate', 'body_type',\n",
              "       'real_face', 'ls', 'st', 'rs', 'lw', 'lf', 'cf', 'rf', 'rw', 'lam',\n",
              "       'cam', 'ram', 'lm', 'lcm', 'cm', 'rcm', 'rm', 'lwb', 'ldm', 'cdm',\n",
              "       'rdm', 'rwb', 'lb', 'lcb', 'cb', 'rcb', 'rb', 'gk', 'player_face_url',\n",
              "       'club_logo_url', 'club_flag_url', 'nation_flag_url'],\n",
              "      dtype='object')"
            ]
          },
          "metadata": {},
          "execution_count": 137
        }
      ],
      "source": [
        "object_columns"
      ]
    },
    {
      "cell_type": "markdown",
      "metadata": {
        "id": "b1wrqx1659nO"
      },
      "source": [
        "Encoding object columns"
      ]
    },
    {
      "cell_type": "code",
      "execution_count": 138,
      "metadata": {
        "id": "OmaN_uqQ-VB7"
      },
      "outputs": [],
      "source": [
        "for column in object_columns:\n",
        "    sports_data_21[column] = pd.factorize(sports_data_21[column])[0]\n"
      ]
    },
    {
      "cell_type": "markdown",
      "metadata": {
        "id": "gDYWORRb7uDm"
      },
      "source": [
        "Imputing  columns"
      ]
    },
    {
      "cell_type": "code",
      "execution_count": 139,
      "metadata": {
        "id": "hwmGb9sy7w83"
      },
      "outputs": [],
      "source": [
        "# Create a SimpleImputer instance with your chosen strategy\n",
        "imputer = SimpleImputer(strategy='mean')\n",
        "\n",
        "# Iterate over columns and impute\n",
        "for column in sports_data_21:\n",
        "    sports_data_21[column] = imputer.fit_transform(sports_data_21[[column]])\n"
      ]
    },
    {
      "cell_type": "code",
      "execution_count": 140,
      "metadata": {
        "id": "NJHDAhLnHD6I",
        "colab": {
          "base_uri": "https://localhost:8080/"
        },
        "outputId": "64048565-81d4-4b0c-b8a5-aa85c3afc679"
      },
      "outputs": [
        {
          "output_type": "execute_result",
          "data": {
            "text/plain": [
              "sofifa_id           False\n",
              "player_url          False\n",
              "short_name          False\n",
              "long_name           False\n",
              "player_positions    False\n",
              "                    ...  \n",
              "gk                  False\n",
              "player_face_url     False\n",
              "club_logo_url       False\n",
              "club_flag_url       False\n",
              "nation_flag_url     False\n",
              "Length: 102, dtype: bool"
            ]
          },
          "metadata": {},
          "execution_count": 140
        }
      ],
      "source": [
        "sports_data_21.isna().any() #Check if there are any NaNs"
      ]
    },
    {
      "cell_type": "code",
      "execution_count": 141,
      "metadata": {
        "id": "KBzwm1BEZ6pP",
        "colab": {
          "base_uri": "https://localhost:8080/"
        },
        "outputId": "efb70e7f-3b1e-40ac-d467-4b24bb2ee813"
      },
      "outputs": [
        {
          "output_type": "execute_result",
          "data": {
            "text/plain": [
              "overall                1.000000\n",
              "movement_reactions     0.867234\n",
              "mentality_composure    0.705252\n",
              "passing                0.662090\n",
              "potential              0.636366\n",
              "                         ...   \n",
              "dob                   -0.595900\n",
              "short_name            -0.923514\n",
              "long_name             -0.974388\n",
              "player_face_url       -0.975045\n",
              "player_url            -0.975045\n",
              "Name: overall, Length: 102, dtype: float64"
            ]
          },
          "metadata": {},
          "execution_count": 141
        }
      ],
      "source": [
        "c = sports_data_21.corr()\n",
        "c[\"overall\"].sort_values(ascending=False)"
      ]
    },
    {
      "cell_type": "code",
      "execution_count": 142,
      "metadata": {
        "id": "_JivygUDZN9Z"
      },
      "outputs": [],
      "source": [
        "#Using correlation values greater than 0.4 we selected these\n",
        "s =['overall','movement_reactions','passing','mentality_composure','dribbling','release_clause_eur','wage_eur','value_eur','power_shot_power','physic','mentality_vision',\n",
        "           'attacking_short_passing','shooting','skill_long_passing','age','skill_ball_control','international_reputation','skill_curve','attacking_crossing']"
      ]
    },
    {
      "cell_type": "markdown",
      "source": [],
      "metadata": {
        "id": "ENgM55ZXnDr5"
      }
    },
    {
      "cell_type": "code",
      "execution_count": 143,
      "metadata": {
        "id": "CqjMflm1-JKU"
      },
      "outputs": [],
      "source": [
        "#We picked the top 12\n",
        "selected =['overall','movement_reactions','passing','dribbling','mentality_composure','power_shot_power','attacking_short_passing','shooting','age','physic','mentality_vision','international_reputation']"
      ]
    },
    {
      "cell_type": "code",
      "execution_count": 144,
      "metadata": {
        "id": "25aCJuBWZXIi"
      },
      "outputs": [],
      "source": [
        "sports_data_21 = sports_data_21[selected]"
      ]
    },
    {
      "cell_type": "code",
      "execution_count": 145,
      "metadata": {
        "id": "uOtxEgTibO7i",
        "colab": {
          "base_uri": "https://localhost:8080/",
          "height": 226
        },
        "outputId": "4161074b-4d70-49df-b836-6ef393ee077a"
      },
      "outputs": [
        {
          "output_type": "execute_result",
          "data": {
            "text/plain": [
              "   overall  movement_reactions  passing  dribbling  mentality_composure  \\\n",
              "0     93.0                94.0     91.0       95.0                 96.0   \n",
              "1     92.0                95.0     81.0       89.0                 95.0   \n",
              "2     91.0                93.0     78.0       85.0                 88.0   \n",
              "3     91.0                91.0     86.0       94.0                 93.0   \n",
              "4     91.0                91.0     93.0       88.0                 91.0   \n",
              "\n",
              "   power_shot_power  attacking_short_passing  shooting   age  physic  \\\n",
              "0              86.0                     91.0      92.0  33.0    65.0   \n",
              "1              94.0                     82.0      93.0  35.0    77.0   \n",
              "2              89.0                     84.0      91.0  31.0    82.0   \n",
              "3              80.0                     87.0      85.0  28.0    59.0   \n",
              "4              91.0                     94.0      86.0  29.0    78.0   \n",
              "\n",
              "   mentality_vision  international_reputation  \n",
              "0              95.0                       5.0  \n",
              "1              82.0                       5.0  \n",
              "2              79.0                       4.0  \n",
              "3              90.0                       5.0  \n",
              "4              94.0                       4.0  "
            ],
            "text/html": [
              "\n",
              "  <div id=\"df-25cbc928-4317-491e-a37b-91547c78766e\" class=\"colab-df-container\">\n",
              "    <div>\n",
              "<style scoped>\n",
              "    .dataframe tbody tr th:only-of-type {\n",
              "        vertical-align: middle;\n",
              "    }\n",
              "\n",
              "    .dataframe tbody tr th {\n",
              "        vertical-align: top;\n",
              "    }\n",
              "\n",
              "    .dataframe thead th {\n",
              "        text-align: right;\n",
              "    }\n",
              "</style>\n",
              "<table border=\"1\" class=\"dataframe\">\n",
              "  <thead>\n",
              "    <tr style=\"text-align: right;\">\n",
              "      <th></th>\n",
              "      <th>overall</th>\n",
              "      <th>movement_reactions</th>\n",
              "      <th>passing</th>\n",
              "      <th>dribbling</th>\n",
              "      <th>mentality_composure</th>\n",
              "      <th>power_shot_power</th>\n",
              "      <th>attacking_short_passing</th>\n",
              "      <th>shooting</th>\n",
              "      <th>age</th>\n",
              "      <th>physic</th>\n",
              "      <th>mentality_vision</th>\n",
              "      <th>international_reputation</th>\n",
              "    </tr>\n",
              "  </thead>\n",
              "  <tbody>\n",
              "    <tr>\n",
              "      <th>0</th>\n",
              "      <td>93.0</td>\n",
              "      <td>94.0</td>\n",
              "      <td>91.0</td>\n",
              "      <td>95.0</td>\n",
              "      <td>96.0</td>\n",
              "      <td>86.0</td>\n",
              "      <td>91.0</td>\n",
              "      <td>92.0</td>\n",
              "      <td>33.0</td>\n",
              "      <td>65.0</td>\n",
              "      <td>95.0</td>\n",
              "      <td>5.0</td>\n",
              "    </tr>\n",
              "    <tr>\n",
              "      <th>1</th>\n",
              "      <td>92.0</td>\n",
              "      <td>95.0</td>\n",
              "      <td>81.0</td>\n",
              "      <td>89.0</td>\n",
              "      <td>95.0</td>\n",
              "      <td>94.0</td>\n",
              "      <td>82.0</td>\n",
              "      <td>93.0</td>\n",
              "      <td>35.0</td>\n",
              "      <td>77.0</td>\n",
              "      <td>82.0</td>\n",
              "      <td>5.0</td>\n",
              "    </tr>\n",
              "    <tr>\n",
              "      <th>2</th>\n",
              "      <td>91.0</td>\n",
              "      <td>93.0</td>\n",
              "      <td>78.0</td>\n",
              "      <td>85.0</td>\n",
              "      <td>88.0</td>\n",
              "      <td>89.0</td>\n",
              "      <td>84.0</td>\n",
              "      <td>91.0</td>\n",
              "      <td>31.0</td>\n",
              "      <td>82.0</td>\n",
              "      <td>79.0</td>\n",
              "      <td>4.0</td>\n",
              "    </tr>\n",
              "    <tr>\n",
              "      <th>3</th>\n",
              "      <td>91.0</td>\n",
              "      <td>91.0</td>\n",
              "      <td>86.0</td>\n",
              "      <td>94.0</td>\n",
              "      <td>93.0</td>\n",
              "      <td>80.0</td>\n",
              "      <td>87.0</td>\n",
              "      <td>85.0</td>\n",
              "      <td>28.0</td>\n",
              "      <td>59.0</td>\n",
              "      <td>90.0</td>\n",
              "      <td>5.0</td>\n",
              "    </tr>\n",
              "    <tr>\n",
              "      <th>4</th>\n",
              "      <td>91.0</td>\n",
              "      <td>91.0</td>\n",
              "      <td>93.0</td>\n",
              "      <td>88.0</td>\n",
              "      <td>91.0</td>\n",
              "      <td>91.0</td>\n",
              "      <td>94.0</td>\n",
              "      <td>86.0</td>\n",
              "      <td>29.0</td>\n",
              "      <td>78.0</td>\n",
              "      <td>94.0</td>\n",
              "      <td>4.0</td>\n",
              "    </tr>\n",
              "  </tbody>\n",
              "</table>\n",
              "</div>\n",
              "    <div class=\"colab-df-buttons\">\n",
              "\n",
              "  <div class=\"colab-df-container\">\n",
              "    <button class=\"colab-df-convert\" onclick=\"convertToInteractive('df-25cbc928-4317-491e-a37b-91547c78766e')\"\n",
              "            title=\"Convert this dataframe to an interactive table.\"\n",
              "            style=\"display:none;\">\n",
              "\n",
              "  <svg xmlns=\"http://www.w3.org/2000/svg\" height=\"24px\" viewBox=\"0 -960 960 960\">\n",
              "    <path d=\"M120-120v-720h720v720H120Zm60-500h600v-160H180v160Zm220 220h160v-160H400v160Zm0 220h160v-160H400v160ZM180-400h160v-160H180v160Zm440 0h160v-160H620v160ZM180-180h160v-160H180v160Zm440 0h160v-160H620v160Z\"/>\n",
              "  </svg>\n",
              "    </button>\n",
              "\n",
              "  <style>\n",
              "    .colab-df-container {\n",
              "      display:flex;\n",
              "      gap: 12px;\n",
              "    }\n",
              "\n",
              "    .colab-df-convert {\n",
              "      background-color: #E8F0FE;\n",
              "      border: none;\n",
              "      border-radius: 50%;\n",
              "      cursor: pointer;\n",
              "      display: none;\n",
              "      fill: #1967D2;\n",
              "      height: 32px;\n",
              "      padding: 0 0 0 0;\n",
              "      width: 32px;\n",
              "    }\n",
              "\n",
              "    .colab-df-convert:hover {\n",
              "      background-color: #E2EBFA;\n",
              "      box-shadow: 0px 1px 2px rgba(60, 64, 67, 0.3), 0px 1px 3px 1px rgba(60, 64, 67, 0.15);\n",
              "      fill: #174EA6;\n",
              "    }\n",
              "\n",
              "    .colab-df-buttons div {\n",
              "      margin-bottom: 4px;\n",
              "    }\n",
              "\n",
              "    [theme=dark] .colab-df-convert {\n",
              "      background-color: #3B4455;\n",
              "      fill: #D2E3FC;\n",
              "    }\n",
              "\n",
              "    [theme=dark] .colab-df-convert:hover {\n",
              "      background-color: #434B5C;\n",
              "      box-shadow: 0px 1px 3px 1px rgba(0, 0, 0, 0.15);\n",
              "      filter: drop-shadow(0px 1px 2px rgba(0, 0, 0, 0.3));\n",
              "      fill: #FFFFFF;\n",
              "    }\n",
              "  </style>\n",
              "\n",
              "    <script>\n",
              "      const buttonEl =\n",
              "        document.querySelector('#df-25cbc928-4317-491e-a37b-91547c78766e button.colab-df-convert');\n",
              "      buttonEl.style.display =\n",
              "        google.colab.kernel.accessAllowed ? 'block' : 'none';\n",
              "\n",
              "      async function convertToInteractive(key) {\n",
              "        const element = document.querySelector('#df-25cbc928-4317-491e-a37b-91547c78766e');\n",
              "        const dataTable =\n",
              "          await google.colab.kernel.invokeFunction('convertToInteractive',\n",
              "                                                    [key], {});\n",
              "        if (!dataTable) return;\n",
              "\n",
              "        const docLinkHtml = 'Like what you see? Visit the ' +\n",
              "          '<a target=\"_blank\" href=https://colab.research.google.com/notebooks/data_table.ipynb>data table notebook</a>'\n",
              "          + ' to learn more about interactive tables.';\n",
              "        element.innerHTML = '';\n",
              "        dataTable['output_type'] = 'display_data';\n",
              "        await google.colab.output.renderOutput(dataTable, element);\n",
              "        const docLink = document.createElement('div');\n",
              "        docLink.innerHTML = docLinkHtml;\n",
              "        element.appendChild(docLink);\n",
              "      }\n",
              "    </script>\n",
              "  </div>\n",
              "\n",
              "\n",
              "<div id=\"df-3feeded5-2164-441c-800d-613142a58841\">\n",
              "  <button class=\"colab-df-quickchart\" onclick=\"quickchart('df-3feeded5-2164-441c-800d-613142a58841')\"\n",
              "            title=\"Suggest charts.\"\n",
              "            style=\"display:none;\">\n",
              "\n",
              "<svg xmlns=\"http://www.w3.org/2000/svg\" height=\"24px\"viewBox=\"0 0 24 24\"\n",
              "     width=\"24px\">\n",
              "    <g>\n",
              "        <path d=\"M19 3H5c-1.1 0-2 .9-2 2v14c0 1.1.9 2 2 2h14c1.1 0 2-.9 2-2V5c0-1.1-.9-2-2-2zM9 17H7v-7h2v7zm4 0h-2V7h2v10zm4 0h-2v-4h2v4z\"/>\n",
              "    </g>\n",
              "</svg>\n",
              "  </button>\n",
              "\n",
              "<style>\n",
              "  .colab-df-quickchart {\n",
              "      --bg-color: #E8F0FE;\n",
              "      --fill-color: #1967D2;\n",
              "      --hover-bg-color: #E2EBFA;\n",
              "      --hover-fill-color: #174EA6;\n",
              "      --disabled-fill-color: #AAA;\n",
              "      --disabled-bg-color: #DDD;\n",
              "  }\n",
              "\n",
              "  [theme=dark] .colab-df-quickchart {\n",
              "      --bg-color: #3B4455;\n",
              "      --fill-color: #D2E3FC;\n",
              "      --hover-bg-color: #434B5C;\n",
              "      --hover-fill-color: #FFFFFF;\n",
              "      --disabled-bg-color: #3B4455;\n",
              "      --disabled-fill-color: #666;\n",
              "  }\n",
              "\n",
              "  .colab-df-quickchart {\n",
              "    background-color: var(--bg-color);\n",
              "    border: none;\n",
              "    border-radius: 50%;\n",
              "    cursor: pointer;\n",
              "    display: none;\n",
              "    fill: var(--fill-color);\n",
              "    height: 32px;\n",
              "    padding: 0;\n",
              "    width: 32px;\n",
              "  }\n",
              "\n",
              "  .colab-df-quickchart:hover {\n",
              "    background-color: var(--hover-bg-color);\n",
              "    box-shadow: 0 1px 2px rgba(60, 64, 67, 0.3), 0 1px 3px 1px rgba(60, 64, 67, 0.15);\n",
              "    fill: var(--button-hover-fill-color);\n",
              "  }\n",
              "\n",
              "  .colab-df-quickchart-complete:disabled,\n",
              "  .colab-df-quickchart-complete:disabled:hover {\n",
              "    background-color: var(--disabled-bg-color);\n",
              "    fill: var(--disabled-fill-color);\n",
              "    box-shadow: none;\n",
              "  }\n",
              "\n",
              "  .colab-df-spinner {\n",
              "    border: 2px solid var(--fill-color);\n",
              "    border-color: transparent;\n",
              "    border-bottom-color: var(--fill-color);\n",
              "    animation:\n",
              "      spin 1s steps(1) infinite;\n",
              "  }\n",
              "\n",
              "  @keyframes spin {\n",
              "    0% {\n",
              "      border-color: transparent;\n",
              "      border-bottom-color: var(--fill-color);\n",
              "      border-left-color: var(--fill-color);\n",
              "    }\n",
              "    20% {\n",
              "      border-color: transparent;\n",
              "      border-left-color: var(--fill-color);\n",
              "      border-top-color: var(--fill-color);\n",
              "    }\n",
              "    30% {\n",
              "      border-color: transparent;\n",
              "      border-left-color: var(--fill-color);\n",
              "      border-top-color: var(--fill-color);\n",
              "      border-right-color: var(--fill-color);\n",
              "    }\n",
              "    40% {\n",
              "      border-color: transparent;\n",
              "      border-right-color: var(--fill-color);\n",
              "      border-top-color: var(--fill-color);\n",
              "    }\n",
              "    60% {\n",
              "      border-color: transparent;\n",
              "      border-right-color: var(--fill-color);\n",
              "    }\n",
              "    80% {\n",
              "      border-color: transparent;\n",
              "      border-right-color: var(--fill-color);\n",
              "      border-bottom-color: var(--fill-color);\n",
              "    }\n",
              "    90% {\n",
              "      border-color: transparent;\n",
              "      border-bottom-color: var(--fill-color);\n",
              "    }\n",
              "  }\n",
              "</style>\n",
              "\n",
              "  <script>\n",
              "    async function quickchart(key) {\n",
              "      const quickchartButtonEl =\n",
              "        document.querySelector('#' + key + ' button');\n",
              "      quickchartButtonEl.disabled = true;  // To prevent multiple clicks.\n",
              "      quickchartButtonEl.classList.add('colab-df-spinner');\n",
              "      try {\n",
              "        const charts = await google.colab.kernel.invokeFunction(\n",
              "            'suggestCharts', [key], {});\n",
              "      } catch (error) {\n",
              "        console.error('Error during call to suggestCharts:', error);\n",
              "      }\n",
              "      quickchartButtonEl.classList.remove('colab-df-spinner');\n",
              "      quickchartButtonEl.classList.add('colab-df-quickchart-complete');\n",
              "    }\n",
              "    (() => {\n",
              "      let quickchartButtonEl =\n",
              "        document.querySelector('#df-3feeded5-2164-441c-800d-613142a58841 button');\n",
              "      quickchartButtonEl.style.display =\n",
              "        google.colab.kernel.accessAllowed ? 'block' : 'none';\n",
              "    })();\n",
              "  </script>\n",
              "</div>\n",
              "    </div>\n",
              "  </div>\n"
            ]
          },
          "metadata": {},
          "execution_count": 145
        }
      ],
      "source": [
        "sports_data_21.head()"
      ]
    },
    {
      "cell_type": "markdown",
      "metadata": {
        "id": "25PmJJR9cRxA"
      },
      "source": [
        "Scaling"
      ]
    },
    {
      "cell_type": "code",
      "execution_count": 146,
      "metadata": {
        "id": "UYnEPLf9cqp-"
      },
      "outputs": [],
      "source": [
        "from sklearn.preprocessing import StandardScaler"
      ]
    },
    {
      "cell_type": "code",
      "execution_count": 147,
      "metadata": {
        "id": "2MxmNSt0bV_N"
      },
      "outputs": [],
      "source": [
        "y = sports_data_21['overall']\n"
      ]
    },
    {
      "cell_type": "code",
      "execution_count": 148,
      "metadata": {
        "id": "l987Z4p8e3wM"
      },
      "outputs": [],
      "source": [
        "x =sports_data_21.drop('overall',axis=1)"
      ]
    },
    {
      "cell_type": "code",
      "execution_count": 149,
      "metadata": {
        "id": "dt81FugNcycq"
      },
      "outputs": [],
      "source": [
        "\n",
        "X= StandardScaler()"
      ]
    },
    {
      "cell_type": "code",
      "execution_count": 150,
      "metadata": {
        "id": "7WxnpinHc1WO"
      },
      "outputs": [],
      "source": [
        "scaled = X.fit_transform(x)"
      ]
    },
    {
      "cell_type": "code",
      "execution_count": 151,
      "metadata": {
        "id": "YAnbdnx8c32t"
      },
      "outputs": [],
      "source": [
        "sports_data_21=pd.DataFrame(scaled,columns=x.columns)"
      ]
    },
    {
      "cell_type": "code",
      "execution_count": 152,
      "metadata": {
        "id": "XwR991j0gJWP",
        "colab": {
          "base_uri": "https://localhost:8080/",
          "height": 443
        },
        "outputId": "8f1591c9-0584-4f84-fd58-0bc606fa8c51"
      },
      "outputs": [
        {
          "output_type": "execute_result",
          "data": {
            "text/plain": [
              "       movement_reactions   passing  dribbling  mentality_composure  \\\n",
              "0                3.554438  3.493625   3.433013             3.137573   \n",
              "1                3.664174  2.461857   2.800094             3.055051   \n",
              "2                3.444701  2.152326   2.378148             2.477402   \n",
              "3                3.225227  2.977741   3.327526             2.890009   \n",
              "4                3.225227  3.699979   2.694607             2.724966   \n",
              "...                   ...       ...        ...                  ...   \n",
              "18939           -1.493455 -3.212867  -3.740069            -1.483625   \n",
              "18940           -1.273981 -0.839801  -1.630339            -1.896232   \n",
              "18941           -1.932402 -0.839801  -1.735826            -1.896232   \n",
              "18942           -0.944771 -1.768392  -0.997420            -1.071018   \n",
              "18943           -1.164245 -0.942978  -1.419366            -1.648668   \n",
              "\n",
              "       power_shot_power  attacking_short_passing  shooting       age  \\\n",
              "0              2.119026                 2.216206  3.009606  1.655055   \n",
              "1              2.719163                 1.598583  3.085367  2.080838   \n",
              "2              2.344077                 1.735833  2.933845  1.229273   \n",
              "3              1.668922                 1.941707  2.479280  0.590598   \n",
              "4              2.494112                 2.422080  2.555040  0.803490   \n",
              "...                 ...                      ...       ...       ...   \n",
              "18939         -1.706851                -1.901280 -2.217897 -0.899642   \n",
              "18940         -1.481799                -0.254285 -1.536049 -0.899642   \n",
              "18941         -0.656610                -0.185661 -1.157245  0.590598   \n",
              "18942         -0.581593                -0.940533 -0.475396 -1.751207   \n",
              "18943         -0.731627                -0.185661 -0.929962 -1.751207   \n",
              "\n",
              "         physic  mentality_vision  international_reputation  \n",
              "0      0.058838          3.000047                 10.801035  \n",
              "1      1.363898          2.052781                 10.801035  \n",
              "2      1.907673          1.834181                  8.037314  \n",
              "3     -0.593692          2.635714                 10.801035  \n",
              "4      1.472653          2.927180                  8.037314  \n",
              "...         ...               ...                       ...  \n",
              "18939 -1.789997         -2.100615                 -0.253847  \n",
              "18940 -1.789997         -0.060350                 -0.253847  \n",
              "18941 -0.593692         -0.716150                 -0.253847  \n",
              "18942 -2.660037         -0.351817                 -0.253847  \n",
              "18943 -2.116262         -0.497550                 -0.253847  \n",
              "\n",
              "[18944 rows x 11 columns]"
            ],
            "text/html": [
              "\n",
              "  <div id=\"df-b0f33219-4d69-4a6f-95c7-becbf6a663d5\" class=\"colab-df-container\">\n",
              "    <div>\n",
              "<style scoped>\n",
              "    .dataframe tbody tr th:only-of-type {\n",
              "        vertical-align: middle;\n",
              "    }\n",
              "\n",
              "    .dataframe tbody tr th {\n",
              "        vertical-align: top;\n",
              "    }\n",
              "\n",
              "    .dataframe thead th {\n",
              "        text-align: right;\n",
              "    }\n",
              "</style>\n",
              "<table border=\"1\" class=\"dataframe\">\n",
              "  <thead>\n",
              "    <tr style=\"text-align: right;\">\n",
              "      <th></th>\n",
              "      <th>movement_reactions</th>\n",
              "      <th>passing</th>\n",
              "      <th>dribbling</th>\n",
              "      <th>mentality_composure</th>\n",
              "      <th>power_shot_power</th>\n",
              "      <th>attacking_short_passing</th>\n",
              "      <th>shooting</th>\n",
              "      <th>age</th>\n",
              "      <th>physic</th>\n",
              "      <th>mentality_vision</th>\n",
              "      <th>international_reputation</th>\n",
              "    </tr>\n",
              "  </thead>\n",
              "  <tbody>\n",
              "    <tr>\n",
              "      <th>0</th>\n",
              "      <td>3.554438</td>\n",
              "      <td>3.493625</td>\n",
              "      <td>3.433013</td>\n",
              "      <td>3.137573</td>\n",
              "      <td>2.119026</td>\n",
              "      <td>2.216206</td>\n",
              "      <td>3.009606</td>\n",
              "      <td>1.655055</td>\n",
              "      <td>0.058838</td>\n",
              "      <td>3.000047</td>\n",
              "      <td>10.801035</td>\n",
              "    </tr>\n",
              "    <tr>\n",
              "      <th>1</th>\n",
              "      <td>3.664174</td>\n",
              "      <td>2.461857</td>\n",
              "      <td>2.800094</td>\n",
              "      <td>3.055051</td>\n",
              "      <td>2.719163</td>\n",
              "      <td>1.598583</td>\n",
              "      <td>3.085367</td>\n",
              "      <td>2.080838</td>\n",
              "      <td>1.363898</td>\n",
              "      <td>2.052781</td>\n",
              "      <td>10.801035</td>\n",
              "    </tr>\n",
              "    <tr>\n",
              "      <th>2</th>\n",
              "      <td>3.444701</td>\n",
              "      <td>2.152326</td>\n",
              "      <td>2.378148</td>\n",
              "      <td>2.477402</td>\n",
              "      <td>2.344077</td>\n",
              "      <td>1.735833</td>\n",
              "      <td>2.933845</td>\n",
              "      <td>1.229273</td>\n",
              "      <td>1.907673</td>\n",
              "      <td>1.834181</td>\n",
              "      <td>8.037314</td>\n",
              "    </tr>\n",
              "    <tr>\n",
              "      <th>3</th>\n",
              "      <td>3.225227</td>\n",
              "      <td>2.977741</td>\n",
              "      <td>3.327526</td>\n",
              "      <td>2.890009</td>\n",
              "      <td>1.668922</td>\n",
              "      <td>1.941707</td>\n",
              "      <td>2.479280</td>\n",
              "      <td>0.590598</td>\n",
              "      <td>-0.593692</td>\n",
              "      <td>2.635714</td>\n",
              "      <td>10.801035</td>\n",
              "    </tr>\n",
              "    <tr>\n",
              "      <th>4</th>\n",
              "      <td>3.225227</td>\n",
              "      <td>3.699979</td>\n",
              "      <td>2.694607</td>\n",
              "      <td>2.724966</td>\n",
              "      <td>2.494112</td>\n",
              "      <td>2.422080</td>\n",
              "      <td>2.555040</td>\n",
              "      <td>0.803490</td>\n",
              "      <td>1.472653</td>\n",
              "      <td>2.927180</td>\n",
              "      <td>8.037314</td>\n",
              "    </tr>\n",
              "    <tr>\n",
              "      <th>...</th>\n",
              "      <td>...</td>\n",
              "      <td>...</td>\n",
              "      <td>...</td>\n",
              "      <td>...</td>\n",
              "      <td>...</td>\n",
              "      <td>...</td>\n",
              "      <td>...</td>\n",
              "      <td>...</td>\n",
              "      <td>...</td>\n",
              "      <td>...</td>\n",
              "      <td>...</td>\n",
              "    </tr>\n",
              "    <tr>\n",
              "      <th>18939</th>\n",
              "      <td>-1.493455</td>\n",
              "      <td>-3.212867</td>\n",
              "      <td>-3.740069</td>\n",
              "      <td>-1.483625</td>\n",
              "      <td>-1.706851</td>\n",
              "      <td>-1.901280</td>\n",
              "      <td>-2.217897</td>\n",
              "      <td>-0.899642</td>\n",
              "      <td>-1.789997</td>\n",
              "      <td>-2.100615</td>\n",
              "      <td>-0.253847</td>\n",
              "    </tr>\n",
              "    <tr>\n",
              "      <th>18940</th>\n",
              "      <td>-1.273981</td>\n",
              "      <td>-0.839801</td>\n",
              "      <td>-1.630339</td>\n",
              "      <td>-1.896232</td>\n",
              "      <td>-1.481799</td>\n",
              "      <td>-0.254285</td>\n",
              "      <td>-1.536049</td>\n",
              "      <td>-0.899642</td>\n",
              "      <td>-1.789997</td>\n",
              "      <td>-0.060350</td>\n",
              "      <td>-0.253847</td>\n",
              "    </tr>\n",
              "    <tr>\n",
              "      <th>18941</th>\n",
              "      <td>-1.932402</td>\n",
              "      <td>-0.839801</td>\n",
              "      <td>-1.735826</td>\n",
              "      <td>-1.896232</td>\n",
              "      <td>-0.656610</td>\n",
              "      <td>-0.185661</td>\n",
              "      <td>-1.157245</td>\n",
              "      <td>0.590598</td>\n",
              "      <td>-0.593692</td>\n",
              "      <td>-0.716150</td>\n",
              "      <td>-0.253847</td>\n",
              "    </tr>\n",
              "    <tr>\n",
              "      <th>18942</th>\n",
              "      <td>-0.944771</td>\n",
              "      <td>-1.768392</td>\n",
              "      <td>-0.997420</td>\n",
              "      <td>-1.071018</td>\n",
              "      <td>-0.581593</td>\n",
              "      <td>-0.940533</td>\n",
              "      <td>-0.475396</td>\n",
              "      <td>-1.751207</td>\n",
              "      <td>-2.660037</td>\n",
              "      <td>-0.351817</td>\n",
              "      <td>-0.253847</td>\n",
              "    </tr>\n",
              "    <tr>\n",
              "      <th>18943</th>\n",
              "      <td>-1.164245</td>\n",
              "      <td>-0.942978</td>\n",
              "      <td>-1.419366</td>\n",
              "      <td>-1.648668</td>\n",
              "      <td>-0.731627</td>\n",
              "      <td>-0.185661</td>\n",
              "      <td>-0.929962</td>\n",
              "      <td>-1.751207</td>\n",
              "      <td>-2.116262</td>\n",
              "      <td>-0.497550</td>\n",
              "      <td>-0.253847</td>\n",
              "    </tr>\n",
              "  </tbody>\n",
              "</table>\n",
              "<p>18944 rows × 11 columns</p>\n",
              "</div>\n",
              "    <div class=\"colab-df-buttons\">\n",
              "\n",
              "  <div class=\"colab-df-container\">\n",
              "    <button class=\"colab-df-convert\" onclick=\"convertToInteractive('df-b0f33219-4d69-4a6f-95c7-becbf6a663d5')\"\n",
              "            title=\"Convert this dataframe to an interactive table.\"\n",
              "            style=\"display:none;\">\n",
              "\n",
              "  <svg xmlns=\"http://www.w3.org/2000/svg\" height=\"24px\" viewBox=\"0 -960 960 960\">\n",
              "    <path d=\"M120-120v-720h720v720H120Zm60-500h600v-160H180v160Zm220 220h160v-160H400v160Zm0 220h160v-160H400v160ZM180-400h160v-160H180v160Zm440 0h160v-160H620v160ZM180-180h160v-160H180v160Zm440 0h160v-160H620v160Z\"/>\n",
              "  </svg>\n",
              "    </button>\n",
              "\n",
              "  <style>\n",
              "    .colab-df-container {\n",
              "      display:flex;\n",
              "      gap: 12px;\n",
              "    }\n",
              "\n",
              "    .colab-df-convert {\n",
              "      background-color: #E8F0FE;\n",
              "      border: none;\n",
              "      border-radius: 50%;\n",
              "      cursor: pointer;\n",
              "      display: none;\n",
              "      fill: #1967D2;\n",
              "      height: 32px;\n",
              "      padding: 0 0 0 0;\n",
              "      width: 32px;\n",
              "    }\n",
              "\n",
              "    .colab-df-convert:hover {\n",
              "      background-color: #E2EBFA;\n",
              "      box-shadow: 0px 1px 2px rgba(60, 64, 67, 0.3), 0px 1px 3px 1px rgba(60, 64, 67, 0.15);\n",
              "      fill: #174EA6;\n",
              "    }\n",
              "\n",
              "    .colab-df-buttons div {\n",
              "      margin-bottom: 4px;\n",
              "    }\n",
              "\n",
              "    [theme=dark] .colab-df-convert {\n",
              "      background-color: #3B4455;\n",
              "      fill: #D2E3FC;\n",
              "    }\n",
              "\n",
              "    [theme=dark] .colab-df-convert:hover {\n",
              "      background-color: #434B5C;\n",
              "      box-shadow: 0px 1px 3px 1px rgba(0, 0, 0, 0.15);\n",
              "      filter: drop-shadow(0px 1px 2px rgba(0, 0, 0, 0.3));\n",
              "      fill: #FFFFFF;\n",
              "    }\n",
              "  </style>\n",
              "\n",
              "    <script>\n",
              "      const buttonEl =\n",
              "        document.querySelector('#df-b0f33219-4d69-4a6f-95c7-becbf6a663d5 button.colab-df-convert');\n",
              "      buttonEl.style.display =\n",
              "        google.colab.kernel.accessAllowed ? 'block' : 'none';\n",
              "\n",
              "      async function convertToInteractive(key) {\n",
              "        const element = document.querySelector('#df-b0f33219-4d69-4a6f-95c7-becbf6a663d5');\n",
              "        const dataTable =\n",
              "          await google.colab.kernel.invokeFunction('convertToInteractive',\n",
              "                                                    [key], {});\n",
              "        if (!dataTable) return;\n",
              "\n",
              "        const docLinkHtml = 'Like what you see? Visit the ' +\n",
              "          '<a target=\"_blank\" href=https://colab.research.google.com/notebooks/data_table.ipynb>data table notebook</a>'\n",
              "          + ' to learn more about interactive tables.';\n",
              "        element.innerHTML = '';\n",
              "        dataTable['output_type'] = 'display_data';\n",
              "        await google.colab.output.renderOutput(dataTable, element);\n",
              "        const docLink = document.createElement('div');\n",
              "        docLink.innerHTML = docLinkHtml;\n",
              "        element.appendChild(docLink);\n",
              "      }\n",
              "    </script>\n",
              "  </div>\n",
              "\n",
              "\n",
              "<div id=\"df-03da43b5-650d-40c6-a609-157bdddb7424\">\n",
              "  <button class=\"colab-df-quickchart\" onclick=\"quickchart('df-03da43b5-650d-40c6-a609-157bdddb7424')\"\n",
              "            title=\"Suggest charts.\"\n",
              "            style=\"display:none;\">\n",
              "\n",
              "<svg xmlns=\"http://www.w3.org/2000/svg\" height=\"24px\"viewBox=\"0 0 24 24\"\n",
              "     width=\"24px\">\n",
              "    <g>\n",
              "        <path d=\"M19 3H5c-1.1 0-2 .9-2 2v14c0 1.1.9 2 2 2h14c1.1 0 2-.9 2-2V5c0-1.1-.9-2-2-2zM9 17H7v-7h2v7zm4 0h-2V7h2v10zm4 0h-2v-4h2v4z\"/>\n",
              "    </g>\n",
              "</svg>\n",
              "  </button>\n",
              "\n",
              "<style>\n",
              "  .colab-df-quickchart {\n",
              "      --bg-color: #E8F0FE;\n",
              "      --fill-color: #1967D2;\n",
              "      --hover-bg-color: #E2EBFA;\n",
              "      --hover-fill-color: #174EA6;\n",
              "      --disabled-fill-color: #AAA;\n",
              "      --disabled-bg-color: #DDD;\n",
              "  }\n",
              "\n",
              "  [theme=dark] .colab-df-quickchart {\n",
              "      --bg-color: #3B4455;\n",
              "      --fill-color: #D2E3FC;\n",
              "      --hover-bg-color: #434B5C;\n",
              "      --hover-fill-color: #FFFFFF;\n",
              "      --disabled-bg-color: #3B4455;\n",
              "      --disabled-fill-color: #666;\n",
              "  }\n",
              "\n",
              "  .colab-df-quickchart {\n",
              "    background-color: var(--bg-color);\n",
              "    border: none;\n",
              "    border-radius: 50%;\n",
              "    cursor: pointer;\n",
              "    display: none;\n",
              "    fill: var(--fill-color);\n",
              "    height: 32px;\n",
              "    padding: 0;\n",
              "    width: 32px;\n",
              "  }\n",
              "\n",
              "  .colab-df-quickchart:hover {\n",
              "    background-color: var(--hover-bg-color);\n",
              "    box-shadow: 0 1px 2px rgba(60, 64, 67, 0.3), 0 1px 3px 1px rgba(60, 64, 67, 0.15);\n",
              "    fill: var(--button-hover-fill-color);\n",
              "  }\n",
              "\n",
              "  .colab-df-quickchart-complete:disabled,\n",
              "  .colab-df-quickchart-complete:disabled:hover {\n",
              "    background-color: var(--disabled-bg-color);\n",
              "    fill: var(--disabled-fill-color);\n",
              "    box-shadow: none;\n",
              "  }\n",
              "\n",
              "  .colab-df-spinner {\n",
              "    border: 2px solid var(--fill-color);\n",
              "    border-color: transparent;\n",
              "    border-bottom-color: var(--fill-color);\n",
              "    animation:\n",
              "      spin 1s steps(1) infinite;\n",
              "  }\n",
              "\n",
              "  @keyframes spin {\n",
              "    0% {\n",
              "      border-color: transparent;\n",
              "      border-bottom-color: var(--fill-color);\n",
              "      border-left-color: var(--fill-color);\n",
              "    }\n",
              "    20% {\n",
              "      border-color: transparent;\n",
              "      border-left-color: var(--fill-color);\n",
              "      border-top-color: var(--fill-color);\n",
              "    }\n",
              "    30% {\n",
              "      border-color: transparent;\n",
              "      border-left-color: var(--fill-color);\n",
              "      border-top-color: var(--fill-color);\n",
              "      border-right-color: var(--fill-color);\n",
              "    }\n",
              "    40% {\n",
              "      border-color: transparent;\n",
              "      border-right-color: var(--fill-color);\n",
              "      border-top-color: var(--fill-color);\n",
              "    }\n",
              "    60% {\n",
              "      border-color: transparent;\n",
              "      border-right-color: var(--fill-color);\n",
              "    }\n",
              "    80% {\n",
              "      border-color: transparent;\n",
              "      border-right-color: var(--fill-color);\n",
              "      border-bottom-color: var(--fill-color);\n",
              "    }\n",
              "    90% {\n",
              "      border-color: transparent;\n",
              "      border-bottom-color: var(--fill-color);\n",
              "    }\n",
              "  }\n",
              "</style>\n",
              "\n",
              "  <script>\n",
              "    async function quickchart(key) {\n",
              "      const quickchartButtonEl =\n",
              "        document.querySelector('#' + key + ' button');\n",
              "      quickchartButtonEl.disabled = true;  // To prevent multiple clicks.\n",
              "      quickchartButtonEl.classList.add('colab-df-spinner');\n",
              "      try {\n",
              "        const charts = await google.colab.kernel.invokeFunction(\n",
              "            'suggestCharts', [key], {});\n",
              "      } catch (error) {\n",
              "        console.error('Error during call to suggestCharts:', error);\n",
              "      }\n",
              "      quickchartButtonEl.classList.remove('colab-df-spinner');\n",
              "      quickchartButtonEl.classList.add('colab-df-quickchart-complete');\n",
              "    }\n",
              "    (() => {\n",
              "      let quickchartButtonEl =\n",
              "        document.querySelector('#df-03da43b5-650d-40c6-a609-157bdddb7424 button');\n",
              "      quickchartButtonEl.style.display =\n",
              "        google.colab.kernel.accessAllowed ? 'block' : 'none';\n",
              "    })();\n",
              "  </script>\n",
              "</div>\n",
              "    </div>\n",
              "  </div>\n"
            ]
          },
          "metadata": {},
          "execution_count": 152
        }
      ],
      "source": [
        "sports_data_21"
      ]
    },
    {
      "cell_type": "code",
      "execution_count": 153,
      "metadata": {
        "id": "wCzoW3jddsqK"
      },
      "outputs": [],
      "source": [
        "from sklearn.model_selection import cross_val_score\n",
        "from sklearn.ensemble import RandomForestRegressor\n",
        "from sklearn.metrics import mean_squared_error\n",
        "from sklearn.metrics import mean_absolute_error\n"
      ]
    },
    {
      "cell_type": "code",
      "execution_count": 153,
      "metadata": {
        "id": "BhQEZmPEX4cy"
      },
      "outputs": [],
      "source": []
    },
    {
      "cell_type": "markdown",
      "metadata": {
        "id": "HhvJ0wCSdZEr"
      },
      "source": [
        "Training Random Forest Regressor"
      ]
    },
    {
      "cell_type": "code",
      "execution_count": 154,
      "metadata": {
        "id": "A00ShL8ebxJh"
      },
      "outputs": [],
      "source": [
        "X_train, X_test, y_train, y_test = train_test_split(x, y, test_size=0.2, random_state=42)\n"
      ]
    },
    {
      "cell_type": "code",
      "execution_count": 155,
      "metadata": {
        "colab": {
          "base_uri": "https://localhost:8080/",
          "height": 74
        },
        "id": "pnmU4WwWb5GB",
        "outputId": "5e332326-3fb9-4f51-b78b-6de747057098"
      },
      "outputs": [
        {
          "output_type": "execute_result",
          "data": {
            "text/plain": [
              "RandomForestRegressor(n_estimators=110, random_state=45)"
            ],
            "text/html": [
              "<style>#sk-container-id-7 {color: black;background-color: white;}#sk-container-id-7 pre{padding: 0;}#sk-container-id-7 div.sk-toggleable {background-color: white;}#sk-container-id-7 label.sk-toggleable__label {cursor: pointer;display: block;width: 100%;margin-bottom: 0;padding: 0.3em;box-sizing: border-box;text-align: center;}#sk-container-id-7 label.sk-toggleable__label-arrow:before {content: \"▸\";float: left;margin-right: 0.25em;color: #696969;}#sk-container-id-7 label.sk-toggleable__label-arrow:hover:before {color: black;}#sk-container-id-7 div.sk-estimator:hover label.sk-toggleable__label-arrow:before {color: black;}#sk-container-id-7 div.sk-toggleable__content {max-height: 0;max-width: 0;overflow: hidden;text-align: left;background-color: #f0f8ff;}#sk-container-id-7 div.sk-toggleable__content pre {margin: 0.2em;color: black;border-radius: 0.25em;background-color: #f0f8ff;}#sk-container-id-7 input.sk-toggleable__control:checked~div.sk-toggleable__content {max-height: 200px;max-width: 100%;overflow: auto;}#sk-container-id-7 input.sk-toggleable__control:checked~label.sk-toggleable__label-arrow:before {content: \"▾\";}#sk-container-id-7 div.sk-estimator input.sk-toggleable__control:checked~label.sk-toggleable__label {background-color: #d4ebff;}#sk-container-id-7 div.sk-label input.sk-toggleable__control:checked~label.sk-toggleable__label {background-color: #d4ebff;}#sk-container-id-7 input.sk-hidden--visually {border: 0;clip: rect(1px 1px 1px 1px);clip: rect(1px, 1px, 1px, 1px);height: 1px;margin: -1px;overflow: hidden;padding: 0;position: absolute;width: 1px;}#sk-container-id-7 div.sk-estimator {font-family: monospace;background-color: #f0f8ff;border: 1px dotted black;border-radius: 0.25em;box-sizing: border-box;margin-bottom: 0.5em;}#sk-container-id-7 div.sk-estimator:hover {background-color: #d4ebff;}#sk-container-id-7 div.sk-parallel-item::after {content: \"\";width: 100%;border-bottom: 1px solid gray;flex-grow: 1;}#sk-container-id-7 div.sk-label:hover label.sk-toggleable__label {background-color: #d4ebff;}#sk-container-id-7 div.sk-serial::before {content: \"\";position: absolute;border-left: 1px solid gray;box-sizing: border-box;top: 0;bottom: 0;left: 50%;z-index: 0;}#sk-container-id-7 div.sk-serial {display: flex;flex-direction: column;align-items: center;background-color: white;padding-right: 0.2em;padding-left: 0.2em;position: relative;}#sk-container-id-7 div.sk-item {position: relative;z-index: 1;}#sk-container-id-7 div.sk-parallel {display: flex;align-items: stretch;justify-content: center;background-color: white;position: relative;}#sk-container-id-7 div.sk-item::before, #sk-container-id-7 div.sk-parallel-item::before {content: \"\";position: absolute;border-left: 1px solid gray;box-sizing: border-box;top: 0;bottom: 0;left: 50%;z-index: -1;}#sk-container-id-7 div.sk-parallel-item {display: flex;flex-direction: column;z-index: 1;position: relative;background-color: white;}#sk-container-id-7 div.sk-parallel-item:first-child::after {align-self: flex-end;width: 50%;}#sk-container-id-7 div.sk-parallel-item:last-child::after {align-self: flex-start;width: 50%;}#sk-container-id-7 div.sk-parallel-item:only-child::after {width: 0;}#sk-container-id-7 div.sk-dashed-wrapped {border: 1px dashed gray;margin: 0 0.4em 0.5em 0.4em;box-sizing: border-box;padding-bottom: 0.4em;background-color: white;}#sk-container-id-7 div.sk-label label {font-family: monospace;font-weight: bold;display: inline-block;line-height: 1.2em;}#sk-container-id-7 div.sk-label-container {text-align: center;}#sk-container-id-7 div.sk-container {/* jupyter's `normalize.less` sets `[hidden] { display: none; }` but bootstrap.min.css set `[hidden] { display: none !important; }` so we also need the `!important` here to be able to override the default hidden behavior on the sphinx rendered scikit-learn.org. See: https://github.com/scikit-learn/scikit-learn/issues/21755 */display: inline-block !important;position: relative;}#sk-container-id-7 div.sk-text-repr-fallback {display: none;}</style><div id=\"sk-container-id-7\" class=\"sk-top-container\"><div class=\"sk-text-repr-fallback\"><pre>RandomForestRegressor(n_estimators=110, random_state=45)</pre><b>In a Jupyter environment, please rerun this cell to show the HTML representation or trust the notebook. <br />On GitHub, the HTML representation is unable to render, please try loading this page with nbviewer.org.</b></div><div class=\"sk-container\" hidden><div class=\"sk-item\"><div class=\"sk-estimator sk-toggleable\"><input class=\"sk-toggleable__control sk-hidden--visually\" id=\"sk-estimator-id-7\" type=\"checkbox\" checked><label for=\"sk-estimator-id-7\" class=\"sk-toggleable__label sk-toggleable__label-arrow\">RandomForestRegressor</label><div class=\"sk-toggleable__content\"><pre>RandomForestRegressor(n_estimators=110, random_state=45)</pre></div></div></div></div></div>"
            ]
          },
          "metadata": {},
          "execution_count": 155
        }
      ],
      "source": [
        "rfm = RandomForestRegressor(n_estimators=110, random_state=45)\n",
        "rfm.fit(X_train, y_train)\n"
      ]
    },
    {
      "cell_type": "code",
      "execution_count": 156,
      "metadata": {
        "colab": {
          "base_uri": "https://localhost:8080/"
        },
        "id": "jQgomBHbcjQg",
        "outputId": "e504984c-21e3-4221-affe-0ade37244a9b"
      },
      "outputs": [
        {
          "output_type": "stream",
          "name": "stdout",
          "text": [
            "Cross-Validation Scores: [0.91019605 0.91333297 0.91146354 0.90950853 0.91157812 0.91854096\n",
            " 0.91157107 0.90158928 0.91404077 0.90535018]\n"
          ]
        }
      ],
      "source": [
        "scores = cross_val_score(rfm, X_train, y_train, cv=10)\n",
        "print(\"Cross-Validation Scores:\", scores)\n"
      ]
    },
    {
      "cell_type": "code",
      "execution_count": 157,
      "metadata": {
        "colab": {
          "base_uri": "https://localhost:8080/"
        },
        "id": "4xxwkrxjcpZW",
        "outputId": "9809bd25-5558-45d7-f8de-64e338eccccf"
      },
      "outputs": [
        {
          "output_type": "stream",
          "name": "stdout",
          "text": [
            "Mean Squared Error: 4.253497510191529\n"
          ]
        }
      ],
      "source": [
        "y_pred = rfm.predict(X_test)\n",
        "\n",
        "mse = mean_squared_error(y_test, y_pred)\n",
        "print(\"Mean Squared Error:\", mse)\n"
      ]
    },
    {
      "cell_type": "code",
      "execution_count": 158,
      "metadata": {
        "colab": {
          "base_uri": "https://localhost:8080/"
        },
        "id": "6n1P1Uu1ZTKd",
        "outputId": "599d9a32-fe6e-46f9-e8ab-626033384f31"
      },
      "outputs": [
        {
          "output_type": "stream",
          "name": "stdout",
          "text": [
            "1.5773962906979533\n"
          ]
        }
      ],
      "source": [
        "mae = print(mean_absolute_error(y_test, y_pred))"
      ]
    },
    {
      "cell_type": "markdown",
      "metadata": {
        "id": "GdVcU6Zfde3n"
      },
      "source": [
        "Training with Decision Tree Classifier"
      ]
    },
    {
      "cell_type": "code",
      "execution_count": 159,
      "metadata": {
        "id": "kzw9w9ONdOte"
      },
      "outputs": [],
      "source": [
        "from sklearn.tree import DecisionTreeRegressor"
      ]
    },
    {
      "cell_type": "code",
      "execution_count": 160,
      "metadata": {
        "id": "Raf4A-yJdkbs"
      },
      "outputs": [],
      "source": [
        "dtree = DecisionTreeRegressor(max_depth=15, min_samples_split=10)"
      ]
    },
    {
      "cell_type": "code",
      "execution_count": 161,
      "metadata": {
        "colab": {
          "base_uri": "https://localhost:8080/",
          "height": 74
        },
        "id": "4i5_v3ZNdnGT",
        "outputId": "be3cc1b5-5586-4762-ea6c-3872e2f92362"
      },
      "outputs": [
        {
          "output_type": "execute_result",
          "data": {
            "text/plain": [
              "DecisionTreeRegressor(max_depth=15, min_samples_split=10)"
            ],
            "text/html": [
              "<style>#sk-container-id-8 {color: black;background-color: white;}#sk-container-id-8 pre{padding: 0;}#sk-container-id-8 div.sk-toggleable {background-color: white;}#sk-container-id-8 label.sk-toggleable__label {cursor: pointer;display: block;width: 100%;margin-bottom: 0;padding: 0.3em;box-sizing: border-box;text-align: center;}#sk-container-id-8 label.sk-toggleable__label-arrow:before {content: \"▸\";float: left;margin-right: 0.25em;color: #696969;}#sk-container-id-8 label.sk-toggleable__label-arrow:hover:before {color: black;}#sk-container-id-8 div.sk-estimator:hover label.sk-toggleable__label-arrow:before {color: black;}#sk-container-id-8 div.sk-toggleable__content {max-height: 0;max-width: 0;overflow: hidden;text-align: left;background-color: #f0f8ff;}#sk-container-id-8 div.sk-toggleable__content pre {margin: 0.2em;color: black;border-radius: 0.25em;background-color: #f0f8ff;}#sk-container-id-8 input.sk-toggleable__control:checked~div.sk-toggleable__content {max-height: 200px;max-width: 100%;overflow: auto;}#sk-container-id-8 input.sk-toggleable__control:checked~label.sk-toggleable__label-arrow:before {content: \"▾\";}#sk-container-id-8 div.sk-estimator input.sk-toggleable__control:checked~label.sk-toggleable__label {background-color: #d4ebff;}#sk-container-id-8 div.sk-label input.sk-toggleable__control:checked~label.sk-toggleable__label {background-color: #d4ebff;}#sk-container-id-8 input.sk-hidden--visually {border: 0;clip: rect(1px 1px 1px 1px);clip: rect(1px, 1px, 1px, 1px);height: 1px;margin: -1px;overflow: hidden;padding: 0;position: absolute;width: 1px;}#sk-container-id-8 div.sk-estimator {font-family: monospace;background-color: #f0f8ff;border: 1px dotted black;border-radius: 0.25em;box-sizing: border-box;margin-bottom: 0.5em;}#sk-container-id-8 div.sk-estimator:hover {background-color: #d4ebff;}#sk-container-id-8 div.sk-parallel-item::after {content: \"\";width: 100%;border-bottom: 1px solid gray;flex-grow: 1;}#sk-container-id-8 div.sk-label:hover label.sk-toggleable__label {background-color: #d4ebff;}#sk-container-id-8 div.sk-serial::before {content: \"\";position: absolute;border-left: 1px solid gray;box-sizing: border-box;top: 0;bottom: 0;left: 50%;z-index: 0;}#sk-container-id-8 div.sk-serial {display: flex;flex-direction: column;align-items: center;background-color: white;padding-right: 0.2em;padding-left: 0.2em;position: relative;}#sk-container-id-8 div.sk-item {position: relative;z-index: 1;}#sk-container-id-8 div.sk-parallel {display: flex;align-items: stretch;justify-content: center;background-color: white;position: relative;}#sk-container-id-8 div.sk-item::before, #sk-container-id-8 div.sk-parallel-item::before {content: \"\";position: absolute;border-left: 1px solid gray;box-sizing: border-box;top: 0;bottom: 0;left: 50%;z-index: -1;}#sk-container-id-8 div.sk-parallel-item {display: flex;flex-direction: column;z-index: 1;position: relative;background-color: white;}#sk-container-id-8 div.sk-parallel-item:first-child::after {align-self: flex-end;width: 50%;}#sk-container-id-8 div.sk-parallel-item:last-child::after {align-self: flex-start;width: 50%;}#sk-container-id-8 div.sk-parallel-item:only-child::after {width: 0;}#sk-container-id-8 div.sk-dashed-wrapped {border: 1px dashed gray;margin: 0 0.4em 0.5em 0.4em;box-sizing: border-box;padding-bottom: 0.4em;background-color: white;}#sk-container-id-8 div.sk-label label {font-family: monospace;font-weight: bold;display: inline-block;line-height: 1.2em;}#sk-container-id-8 div.sk-label-container {text-align: center;}#sk-container-id-8 div.sk-container {/* jupyter's `normalize.less` sets `[hidden] { display: none; }` but bootstrap.min.css set `[hidden] { display: none !important; }` so we also need the `!important` here to be able to override the default hidden behavior on the sphinx rendered scikit-learn.org. See: https://github.com/scikit-learn/scikit-learn/issues/21755 */display: inline-block !important;position: relative;}#sk-container-id-8 div.sk-text-repr-fallback {display: none;}</style><div id=\"sk-container-id-8\" class=\"sk-top-container\"><div class=\"sk-text-repr-fallback\"><pre>DecisionTreeRegressor(max_depth=15, min_samples_split=10)</pre><b>In a Jupyter environment, please rerun this cell to show the HTML representation or trust the notebook. <br />On GitHub, the HTML representation is unable to render, please try loading this page with nbviewer.org.</b></div><div class=\"sk-container\" hidden><div class=\"sk-item\"><div class=\"sk-estimator sk-toggleable\"><input class=\"sk-toggleable__control sk-hidden--visually\" id=\"sk-estimator-id-8\" type=\"checkbox\" checked><label for=\"sk-estimator-id-8\" class=\"sk-toggleable__label sk-toggleable__label-arrow\">DecisionTreeRegressor</label><div class=\"sk-toggleable__content\"><pre>DecisionTreeRegressor(max_depth=15, min_samples_split=10)</pre></div></div></div></div></div>"
            ]
          },
          "metadata": {},
          "execution_count": 161
        }
      ],
      "source": [
        "dtree.fit(X_train,y_train)"
      ]
    },
    {
      "cell_type": "code",
      "execution_count": 162,
      "metadata": {
        "id": "Top3L_lgdpI0"
      },
      "outputs": [],
      "source": [
        "y_pred = dtree.predict(X_test)"
      ]
    },
    {
      "cell_type": "code",
      "execution_count": 163,
      "metadata": {
        "id": "3RauNQutZ4AX",
        "colab": {
          "base_uri": "https://localhost:8080/"
        },
        "outputId": "f901cd6d-dcbb-4801-ecfe-e85b1cf522a2"
      },
      "outputs": [
        {
          "output_type": "stream",
          "name": "stdout",
          "text": [
            "Cross-Validation Scores: [0.84354912 0.85602374 0.84611841 0.83437778 0.84382867 0.84785344\n",
            " 0.84660617 0.83333594 0.85061534 0.84146003]\n"
          ]
        }
      ],
      "source": [
        "scores = cross_val_score(dtree, X_train, y_train, cv=10)\n",
        "print(\"Cross-Validation Scores:\", scores)\n"
      ]
    },
    {
      "cell_type": "code",
      "execution_count": 164,
      "metadata": {
        "id": "cphsvWbMc4fS",
        "colab": {
          "base_uri": "https://localhost:8080/"
        },
        "outputId": "d89c4e17-6f6f-49ba-deaf-4805a17658fb"
      },
      "outputs": [
        {
          "output_type": "stream",
          "name": "stdout",
          "text": [
            "2.05731169284377\n"
          ]
        }
      ],
      "source": [
        "mae = print(mean_absolute_error(y_test, y_pred))"
      ]
    },
    {
      "cell_type": "code",
      "execution_count": 165,
      "metadata": {
        "id": "ClubV6MydwNK"
      },
      "outputs": [],
      "source": [
        "from sklearn.metrics import accuracy_score,f1_score,make_scorer"
      ]
    },
    {
      "cell_type": "markdown",
      "metadata": {
        "id": "e4pUJIwWeUKp"
      },
      "source": [
        "Training using Gradient Boost\n"
      ]
    },
    {
      "cell_type": "code",
      "execution_count": 166,
      "metadata": {
        "id": "suIjm_0Ad3Oi"
      },
      "outputs": [],
      "source": [
        "from sklearn.ensemble import GradientBoostingRegressor"
      ]
    },
    {
      "cell_type": "code",
      "execution_count": 167,
      "metadata": {
        "id": "u2duHKiDexpR"
      },
      "outputs": [],
      "source": [
        "grad=GradientBoostingRegressor( n_estimators=100, learning_rate=0.1)"
      ]
    },
    {
      "cell_type": "code",
      "execution_count": 168,
      "metadata": {
        "id": "owHep0giefGQ",
        "colab": {
          "base_uri": "https://localhost:8080/",
          "height": 74
        },
        "outputId": "3e1ef675-8ad2-46e1-e2a1-bbd1530d25e3"
      },
      "outputs": [
        {
          "output_type": "execute_result",
          "data": {
            "text/plain": [
              "GradientBoostingRegressor()"
            ],
            "text/html": [
              "<style>#sk-container-id-9 {color: black;background-color: white;}#sk-container-id-9 pre{padding: 0;}#sk-container-id-9 div.sk-toggleable {background-color: white;}#sk-container-id-9 label.sk-toggleable__label {cursor: pointer;display: block;width: 100%;margin-bottom: 0;padding: 0.3em;box-sizing: border-box;text-align: center;}#sk-container-id-9 label.sk-toggleable__label-arrow:before {content: \"▸\";float: left;margin-right: 0.25em;color: #696969;}#sk-container-id-9 label.sk-toggleable__label-arrow:hover:before {color: black;}#sk-container-id-9 div.sk-estimator:hover label.sk-toggleable__label-arrow:before {color: black;}#sk-container-id-9 div.sk-toggleable__content {max-height: 0;max-width: 0;overflow: hidden;text-align: left;background-color: #f0f8ff;}#sk-container-id-9 div.sk-toggleable__content pre {margin: 0.2em;color: black;border-radius: 0.25em;background-color: #f0f8ff;}#sk-container-id-9 input.sk-toggleable__control:checked~div.sk-toggleable__content {max-height: 200px;max-width: 100%;overflow: auto;}#sk-container-id-9 input.sk-toggleable__control:checked~label.sk-toggleable__label-arrow:before {content: \"▾\";}#sk-container-id-9 div.sk-estimator input.sk-toggleable__control:checked~label.sk-toggleable__label {background-color: #d4ebff;}#sk-container-id-9 div.sk-label input.sk-toggleable__control:checked~label.sk-toggleable__label {background-color: #d4ebff;}#sk-container-id-9 input.sk-hidden--visually {border: 0;clip: rect(1px 1px 1px 1px);clip: rect(1px, 1px, 1px, 1px);height: 1px;margin: -1px;overflow: hidden;padding: 0;position: absolute;width: 1px;}#sk-container-id-9 div.sk-estimator {font-family: monospace;background-color: #f0f8ff;border: 1px dotted black;border-radius: 0.25em;box-sizing: border-box;margin-bottom: 0.5em;}#sk-container-id-9 div.sk-estimator:hover {background-color: #d4ebff;}#sk-container-id-9 div.sk-parallel-item::after {content: \"\";width: 100%;border-bottom: 1px solid gray;flex-grow: 1;}#sk-container-id-9 div.sk-label:hover label.sk-toggleable__label {background-color: #d4ebff;}#sk-container-id-9 div.sk-serial::before {content: \"\";position: absolute;border-left: 1px solid gray;box-sizing: border-box;top: 0;bottom: 0;left: 50%;z-index: 0;}#sk-container-id-9 div.sk-serial {display: flex;flex-direction: column;align-items: center;background-color: white;padding-right: 0.2em;padding-left: 0.2em;position: relative;}#sk-container-id-9 div.sk-item {position: relative;z-index: 1;}#sk-container-id-9 div.sk-parallel {display: flex;align-items: stretch;justify-content: center;background-color: white;position: relative;}#sk-container-id-9 div.sk-item::before, #sk-container-id-9 div.sk-parallel-item::before {content: \"\";position: absolute;border-left: 1px solid gray;box-sizing: border-box;top: 0;bottom: 0;left: 50%;z-index: -1;}#sk-container-id-9 div.sk-parallel-item {display: flex;flex-direction: column;z-index: 1;position: relative;background-color: white;}#sk-container-id-9 div.sk-parallel-item:first-child::after {align-self: flex-end;width: 50%;}#sk-container-id-9 div.sk-parallel-item:last-child::after {align-self: flex-start;width: 50%;}#sk-container-id-9 div.sk-parallel-item:only-child::after {width: 0;}#sk-container-id-9 div.sk-dashed-wrapped {border: 1px dashed gray;margin: 0 0.4em 0.5em 0.4em;box-sizing: border-box;padding-bottom: 0.4em;background-color: white;}#sk-container-id-9 div.sk-label label {font-family: monospace;font-weight: bold;display: inline-block;line-height: 1.2em;}#sk-container-id-9 div.sk-label-container {text-align: center;}#sk-container-id-9 div.sk-container {/* jupyter's `normalize.less` sets `[hidden] { display: none; }` but bootstrap.min.css set `[hidden] { display: none !important; }` so we also need the `!important` here to be able to override the default hidden behavior on the sphinx rendered scikit-learn.org. See: https://github.com/scikit-learn/scikit-learn/issues/21755 */display: inline-block !important;position: relative;}#sk-container-id-9 div.sk-text-repr-fallback {display: none;}</style><div id=\"sk-container-id-9\" class=\"sk-top-container\"><div class=\"sk-text-repr-fallback\"><pre>GradientBoostingRegressor()</pre><b>In a Jupyter environment, please rerun this cell to show the HTML representation or trust the notebook. <br />On GitHub, the HTML representation is unable to render, please try loading this page with nbviewer.org.</b></div><div class=\"sk-container\" hidden><div class=\"sk-item\"><div class=\"sk-estimator sk-toggleable\"><input class=\"sk-toggleable__control sk-hidden--visually\" id=\"sk-estimator-id-9\" type=\"checkbox\" checked><label for=\"sk-estimator-id-9\" class=\"sk-toggleable__label sk-toggleable__label-arrow\">GradientBoostingRegressor</label><div class=\"sk-toggleable__content\"><pre>GradientBoostingRegressor()</pre></div></div></div></div></div>"
            ]
          },
          "metadata": {},
          "execution_count": 168
        }
      ],
      "source": [
        "grad.fit(X_train,y_train)"
      ]
    },
    {
      "cell_type": "code",
      "execution_count": 169,
      "metadata": {
        "id": "jJbhZ_a6eSTW"
      },
      "outputs": [],
      "source": [
        "y_pred=grad.predict(X_test)"
      ]
    },
    {
      "cell_type": "code",
      "execution_count": 170,
      "metadata": {
        "id": "gQiN9MxjakhH",
        "colab": {
          "base_uri": "https://localhost:8080/"
        },
        "outputId": "77ce66ee-0950-4b1b-84c6-3911de84a3a2"
      },
      "outputs": [
        {
          "output_type": "stream",
          "name": "stdout",
          "text": [
            "Mean Squared Error: 4.850331012225649\n"
          ]
        }
      ],
      "source": [
        "\n",
        "mse = mean_squared_error(y_test, y_pred)\n",
        "print(\"Mean Squared Error:\", mse)\n"
      ]
    },
    {
      "cell_type": "code",
      "execution_count": 171,
      "metadata": {
        "colab": {
          "base_uri": "https://localhost:8080/"
        },
        "id": "2UIZY9bQasA4",
        "outputId": "9f0099f4-a5fc-4409-da81-bfa684841dae"
      },
      "outputs": [
        {
          "output_type": "stream",
          "name": "stdout",
          "text": [
            "Cross-Validation Scores: [0.90354792 0.90138681 0.89743212 0.8942029  0.90290018 0.90545881\n",
            " 0.89742648 0.89622776 0.90891441 0.89829897]\n"
          ]
        }
      ],
      "source": [
        "scores = cross_val_score(grad, X_train, y_train, cv=10)\n",
        "print(\"Cross-Validation Scores:\", scores)\n"
      ]
    },
    {
      "cell_type": "code",
      "execution_count": 172,
      "metadata": {
        "colab": {
          "base_uri": "https://localhost:8080/"
        },
        "id": "b6y-dyA9czhU",
        "outputId": "0eceedc9-7f53-486c-ebc9-498b791948c0"
      },
      "outputs": [
        {
          "output_type": "stream",
          "name": "stdout",
          "text": [
            "1.6998522348669614\n"
          ]
        }
      ],
      "source": [
        "mae = print(mean_absolute_error(y_test, y_pred))"
      ]
    },
    {
      "cell_type": "markdown",
      "metadata": {
        "id": "1a0ihfb2_muZ"
      },
      "source": [
        "Testing with KNeighborsClassifier and SVC"
      ]
    },
    {
      "cell_type": "code",
      "execution_count": 173,
      "metadata": {
        "colab": {
          "base_uri": "https://localhost:8080/"
        },
        "id": "68HmZ9CEAkj8",
        "outputId": "52efcdc1-05f9-4f4b-9015-c8009af93977"
      },
      "outputs": [
        {
          "output_type": "stream",
          "name": "stdout",
          "text": [
            "1.6998522348669614\n"
          ]
        }
      ],
      "source": [
        "m_ae = print(mean_absolute_error(y_test, y_pred))"
      ]
    },
    {
      "cell_type": "markdown",
      "metadata": {
        "id": "zd8nPfIT_NXT"
      },
      "source": [
        "Voting Regressor"
      ]
    },
    {
      "cell_type": "code",
      "execution_count": 174,
      "metadata": {
        "id": "c_kd4OnQe7v7"
      },
      "outputs": [],
      "source": [
        "from sklearn.ensemble import VotingRegressor"
      ]
    },
    {
      "cell_type": "code",
      "execution_count": 175,
      "metadata": {
        "id": "D9VYnd4IfRfS"
      },
      "outputs": [],
      "source": [
        "# Create a VotingRegressor instance\n",
        "voting_regressor = VotingRegressor(\n",
        "    estimators=[\n",
        "        ('gradboost', grad),\n",
        "        ('rf', rfm),\n",
        "        ('decision tree', dtree)\n",
        "    ],\n",
        "#  n_jobs=-1,  # Parallelize the training if available\n",
        "#     weights=[1, 1, 1]  # Use 'hard' or 'soft' for aggregation\n",
        ")\n"
      ]
    },
    {
      "cell_type": "code",
      "execution_count": 176,
      "metadata": {
        "colab": {
          "base_uri": "https://localhost:8080/"
        },
        "id": "xvwnKQMvgexr",
        "outputId": "e2bbc179-0104-415f-9138-82c13cd7fb0b"
      },
      "outputs": [
        {
          "output_type": "stream",
          "name": "stdout",
          "text": [
            "GradientBoostingRegressor MAE: 1.6999322158839372\n",
            "RandomForestRegressor MAE: 1.5773962906979533\n",
            "DecisionTreeRegressor MAE: 2.044723783786937\n",
            "VotingRegressor MAE: 1.6488228427190377\n"
          ]
        }
      ],
      "source": [
        "for model in (grad, rfm,dtree,voting_regressor):\n",
        "    model.fit(X_train, y_train)\n",
        "    y_pred = model.predict(X_test)\n",
        "\n",
        "    # Calculate Mean Absolute Error (MAE)\n",
        "    mae = mean_absolute_error(y_test, y_pred)\n",
        "\n",
        "    # Print the model's name and MAE\n",
        "    print(model.__class__.__name__, \"MAE:\", mae)"
      ]
    },
    {
      "cell_type": "markdown",
      "metadata": {
        "id": "HyChJFbtphXq"
      },
      "source": [
        "Optimization Of Models"
      ]
    },
    {
      "cell_type": "code",
      "execution_count": 177,
      "metadata": {
        "id": "yJXXnrTLqrs_"
      },
      "outputs": [],
      "source": [
        "from sklearn.model_selection import GridSearchCV\n",
        "from sklearn.model_selection import KFold\n"
      ]
    },
    {
      "cell_type": "code",
      "execution_count": 178,
      "metadata": {
        "id": "7XD0znixpeH6"
      },
      "outputs": [],
      "source": [
        "cv = KFold(n_splits=6)\n",
        "# Define the parameter grid\n",
        "PARAMETERS = {\n",
        "    \"max_depth\": [2, 5, 6, 12],\n",
        "    \"min_samples_split\": [2, 5, 7,10],\n",
        "    \"n_estimators\": [100,120, 150]\n",
        "}\n",
        "\n",
        "\n"
      ]
    },
    {
      "cell_type": "code",
      "execution_count": 179,
      "metadata": {
        "id": "qCCuaVa-KE1r"
      },
      "outputs": [],
      "source": [
        "def custom_scorer(y_true, y_pred):\n",
        "    return -mean_absolute_error(y_true, y_pred)  # Using negative MAE for GridSearchCV\n"
      ]
    },
    {
      "cell_type": "code",
      "execution_count": 180,
      "metadata": {
        "id": "RNL1yaK4J-Ht"
      },
      "outputs": [],
      "source": [
        "rf_regressor = RandomForestRegressor(n_jobs=-1)\n",
        "#Define the scoring function for regression (e.g., mean squared error)\n",
        "scoring = make_scorer(mean_squared_error, greater_is_better=False)\n"
      ]
    },
    {
      "cell_type": "code",
      "execution_count": 181,
      "metadata": {
        "id": "2iNy9Eh7J7vI"
      },
      "outputs": [],
      "source": [
        "# Create a GridSearchCV instance\n",
        "model_gs = GridSearchCV(\n",
        "    rf_regressor,\n",
        "    param_grid=PARAMETERS,\n",
        "    cv=cv,\n",
        "    scoring=scoring,\n",
        "    verbose=0\n",
        ")\n"
      ]
    },
    {
      "cell_type": "code",
      "execution_count": 182,
      "metadata": {
        "id": "mdwf5UkuJU6H"
      },
      "outputs": [],
      "source": [
        "# Fit the model to the training data\n",
        "model_gs.fit(X_train, y_train)\n",
        "\n",
        "# Make predictions\n",
        "y_pred = model_gs.predict(X_test)"
      ]
    },
    {
      "cell_type": "markdown",
      "metadata": {
        "id": "5HsxE4cEfF1b"
      },
      "source": [
        "Testing with Players 22"
      ]
    },
    {
      "cell_type": "code",
      "execution_count": 183,
      "metadata": {
        "colab": {
          "base_uri": "https://localhost:8080/"
        },
        "id": "rFv3pnIyfJ8X",
        "outputId": "bd5202df-2802-4c04-e4e5-23c80837f86c"
      },
      "outputs": [
        {
          "output_type": "stream",
          "name": "stderr",
          "text": [
            "<ipython-input-183-8692f08a1891>:1: DtypeWarning: Columns (25,108) have mixed types. Specify dtype option on import or set low_memory=False.\n",
            "  sports_data_22=pd.read_csv('/content/drive/MyDrive/MIDSEM PROJECT/players_22.csv')#train\n"
          ]
        }
      ],
      "source": [
        "sports_data_22=pd.read_csv('/content/drive/MyDrive/MIDSEM PROJECT/players_22.csv')#train"
      ]
    },
    {
      "cell_type": "code",
      "execution_count": 184,
      "metadata": {
        "id": "A8006rny4Wzo"
      },
      "outputs": [],
      "source": [
        "threshold = 0.30 * len(sports_data_22)\n",
        "\n",
        "# Identify columns with 30% or more NaN values\n",
        "columns_with_nan = sports_data_22.columns[sports_data_22.isna().sum() >= threshold]\n",
        "\n",
        "# Drop the identified columns\n",
        "sports_data_22.drop(columns=columns_with_nan, inplace=True)"
      ]
    },
    {
      "cell_type": "code",
      "execution_count": 185,
      "metadata": {
        "id": "34ZKCxsU4jKB"
      },
      "outputs": [],
      "source": [
        "num_columns = sports_data_22.select_dtypes(include=['int64', 'float64'])"
      ]
    },
    {
      "cell_type": "code",
      "execution_count": 186,
      "metadata": {
        "id": "MjWeKWBp4qtB"
      },
      "outputs": [],
      "source": [
        "obj_columns = sports_data_22.select_dtypes(include=['object']).columns"
      ]
    },
    {
      "cell_type": "code",
      "execution_count": 187,
      "metadata": {
        "id": "x34XVZjf40hO"
      },
      "outputs": [],
      "source": [
        "for column in obj_columns:\n",
        "    sports_data_22[column] = pd.factorize(sports_data_22[column])[0]\n"
      ]
    },
    {
      "cell_type": "code",
      "execution_count": 188,
      "metadata": {
        "id": "tibXaT6r5AHK"
      },
      "outputs": [],
      "source": [
        "\n",
        "# Create a SimpleImputer instance with your chosen strategy\n",
        "imputer = SimpleImputer(strategy='mean')\n",
        "\n",
        "# Iterate over columns and impute\n",
        "for column in sports_data_22:\n",
        "    sports_data_22[column] = imputer.fit_transform(sports_data_22[[column]])\n"
      ]
    },
    {
      "cell_type": "code",
      "execution_count": 191,
      "metadata": {
        "id": "t9gqXQyYmdB2"
      },
      "outputs": [],
      "source": [
        "#We picked the top 12\n",
        "selected_data =['overall','movement_reactions','passing','dribbling','mentality_composure','power_shot_power','attacking_short_passing','shooting','age','physic','mentality_vision','international_reputation']"
      ]
    },
    {
      "cell_type": "code",
      "execution_count": 192,
      "metadata": {
        "id": "E1WiPlfHgrER"
      },
      "outputs": [],
      "source": [
        "sports_data_22 = sports_data_22[selected_data]"
      ]
    },
    {
      "cell_type": "code",
      "execution_count": 193,
      "metadata": {
        "id": "XF5zeDQ5rbEC"
      },
      "outputs": [],
      "source": [
        "y_new= sports_data_22['overall']\n"
      ]
    },
    {
      "cell_type": "code",
      "execution_count": 194,
      "metadata": {
        "id": "Io87eJSfrer3"
      },
      "outputs": [],
      "source": [
        "x_new = sports_data_22.drop('overall',axis=1)"
      ]
    },
    {
      "cell_type": "code",
      "execution_count": 195,
      "metadata": {
        "id": "e2oJZ3a2ruQG"
      },
      "outputs": [],
      "source": [
        "\n",
        "sc= StandardScaler()"
      ]
    },
    {
      "cell_type": "code",
      "execution_count": 196,
      "metadata": {
        "id": "TLf-SAkFr195"
      },
      "outputs": [],
      "source": [
        "scaled_new = sc.fit_transform(x_new)"
      ]
    },
    {
      "cell_type": "code",
      "execution_count": 197,
      "metadata": {
        "id": "6VvvxbnrsA6p"
      },
      "outputs": [],
      "source": [
        "sports_data_22=pd.DataFrame(scaled_new,columns=x_new.columns)"
      ]
    },
    {
      "cell_type": "markdown",
      "metadata": {
        "id": "aLa4DqQ58MKq"
      },
      "source": [
        "Testing with random forest regressor"
      ]
    },
    {
      "cell_type": "code",
      "execution_count": 198,
      "metadata": {
        "id": "sJqk5Ip9sOdz"
      },
      "outputs": [],
      "source": [
        "# Now you can make predictions on the imputed data\n",
        "y_pred_new = rfm.predict(x_new)\n"
      ]
    },
    {
      "cell_type": "code",
      "execution_count": 199,
      "metadata": {
        "colab": {
          "base_uri": "https://localhost:8080/"
        },
        "id": "RzCDMCsq85Yv",
        "outputId": "be3a44f0-fe8d-48ad-954d-e761b8b545df"
      },
      "outputs": [
        {
          "output_type": "stream",
          "name": "stdout",
          "text": [
            "1.4195086684717122\n"
          ]
        }
      ],
      "source": [
        "maeee = print(mean_absolute_error(y_new, y_pred_new))"
      ]
    },
    {
      "cell_type": "markdown",
      "metadata": {
        "id": "lZnx3BFU8Quy"
      },
      "source": [
        "Testing with Decision Tree Regressor"
      ]
    },
    {
      "cell_type": "code",
      "execution_count": 200,
      "metadata": {
        "id": "DGCmKRX_8Zy-"
      },
      "outputs": [],
      "source": [
        "# Now you can make predictions on the imputed data\n",
        "y_pred_new = dtree.predict(x_new)\n"
      ]
    },
    {
      "cell_type": "code",
      "execution_count": 201,
      "metadata": {
        "colab": {
          "base_uri": "https://localhost:8080/"
        },
        "id": "7VwDgmvh8tVE",
        "outputId": "0aa5ab57-57d9-4265-fb85-495279c18057"
      },
      "outputs": [
        {
          "output_type": "stream",
          "name": "stdout",
          "text": [
            "1.9220151386570443\n"
          ]
        }
      ],
      "source": [
        "maee = print(mean_absolute_error(y_new, y_pred_new))"
      ]
    },
    {
      "cell_type": "markdown",
      "metadata": {
        "id": "XX1gp6sB8U9K"
      },
      "source": [
        "Testing with Gradient Boost Regressor"
      ]
    },
    {
      "cell_type": "code",
      "execution_count": 202,
      "metadata": {
        "id": "_eeQpTMG9TQe"
      },
      "outputs": [],
      "source": [
        "# Now you can make predictions on the imputed data\n",
        "y_pred_new = grad.predict(x_new)\n"
      ]
    },
    {
      "cell_type": "code",
      "execution_count": 203,
      "metadata": {
        "colab": {
          "base_uri": "https://localhost:8080/"
        },
        "id": "yK1W2Xe59Vcn",
        "outputId": "49d68107-d3ba-44c7-9b16-74de8a4f59aa"
      },
      "outputs": [
        {
          "output_type": "stream",
          "name": "stdout",
          "text": [
            "1.6635872001341772\n"
          ]
        }
      ],
      "source": [
        "maeee = print(mean_absolute_error(y_new, y_pred_new))"
      ]
    },
    {
      "cell_type": "markdown",
      "source": [
        "Saving the Random Forest Regressor"
      ],
      "metadata": {
        "id": "-y4N4yu_oafp"
      }
    },
    {
      "cell_type": "code",
      "execution_count": null,
      "metadata": {
        "id": "bHfbeSTCk8j2"
      },
      "outputs": [],
      "source": [
        "import pickle\n",
        "filename = 'finalized_best_model.pkl'\n",
        "pickle.dump(rfm, open(filename, 'wb'))\n",
        "# load the model from disk\n",
        "loaded_model = pickle.load(open(filename, 'rb'))\n",
        "y_pred = loaded_model.predict(X_test)\n",
        "print(y_pred)"
      ]
    },
    {
      "cell_type": "code",
      "execution_count": null,
      "metadata": {
        "id": "pDR7SJ2oBMgW"
      },
      "outputs": [],
      "source": [
        "# import pickle\n",
        "\n",
        "# # Assuming you have a trained model named 'model'\n",
        "# best_model_path = '/content/my_model.pkl'  # Specify the file path where you want to save the model\n",
        "\n",
        "# # Save the model to a file\n",
        "# with open(best_model_path, 'wb') as file:\n",
        "#     pickle.dump(rfm, file)\n"
      ]
    },
    {
      "cell_type": "code",
      "execution_count": null,
      "metadata": {
        "id": "9w560nC5BrB1"
      },
      "outputs": [],
      "source": [
        "# from google.colab import files\n",
        "\n",
        "# # Download the saved model\n",
        "# files.download(best_model_path)\n"
      ]
    },
    {
      "cell_type": "code",
      "execution_count": null,
      "metadata": {
        "id": "zjTSGUoNByHK"
      },
      "outputs": [],
      "source": []
    }
  ],
  "metadata": {
    "colab": {
      "provenance": []
    },
    "kernelspec": {
      "display_name": "Python 3",
      "name": "python3"
    },
    "language_info": {
      "name": "python"
    }
  },
  "nbformat": 4,
  "nbformat_minor": 0
}